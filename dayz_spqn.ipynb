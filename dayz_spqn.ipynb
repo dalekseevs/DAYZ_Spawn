{
 "cells": [
  {
   "cell_type": "code",
   "execution_count": 1,
   "metadata": {
    "collapsed": true
   },
   "outputs": [],
   "source": [
    "import pandas as pd\n",
    "import xml.etree.ElementTree as et\n",
    "\n",
    "\n",
    "def parse_XML(xml_file, df_cols):\n",
    "    \"\"\"Parse the input XML file and store the result in a pandas\n",
    "    DataFrame with the given columns.\n",
    "\n",
    "    The first element of df_cols is supposed to be the identifier\n",
    "    variable, which is an attribute of each node element in the\n",
    "    XML data; other features will be parsed from the text content\n",
    "    of each sub-element.\n",
    "    \"\"\"\n",
    "\n",
    "    xtree = et.parse(xml_file)\n",
    "    xroot = xtree.getroot()\n",
    "    rows = []\n",
    "\n",
    "    for node in xroot:\n",
    "        res = []\n",
    "        res.append(node.attrib.get(df_cols[0]))\n",
    "        for el in df_cols[1:]:\n",
    "            if node is not None and node.find(el) is not None:\n",
    "                res.append(node.find(el).text)\n",
    "            else:\n",
    "                res.append(None)\n",
    "        rows.append({df_cols[i]: res[i]\n",
    "                     for i, _ in enumerate(df_cols)})\n",
    "\n",
    "    out_df = pd.DataFrame(rows, columns=df_cols)\n",
    "\n",
    "    return out_df"
   ]
  },
  {
   "cell_type": "code",
   "execution_count": 16,
   "outputs": [],
   "source": [
    "import xml.etree.ElementTree as et\n",
    "\n",
    "xtree = et.parse('./dayz.xml')\n",
    "xroot = xtree.getroot()"
   ],
   "metadata": {
    "collapsed": false,
    "pycharm": {
     "name": "#%%\n"
    }
   }
  },
  {
   "cell_type": "code",
   "execution_count": 23,
   "outputs": [
    {
     "data": {
      "text/plain": "'ACOGOptic'"
     },
     "execution_count": 23,
     "metadata": {},
     "output_type": "execute_result"
    }
   ],
   "source": [
    "xroot[0].attrib['name']"
   ],
   "metadata": {
    "collapsed": false,
    "pycharm": {
     "name": "#%%\n"
    }
   }
  },
  {
   "cell_type": "code",
   "execution_count": 42,
   "outputs": [
    {
     "name": "stdout",
     "output_type": "stream",
     "text": [
      "{'count_in_cargo': '0', 'count_in_hoarder': '0', 'count_in_map': '1', 'count_in_player': '0', 'crafted': '0', 'deloot': '0'}\n"
     ]
    }
   ],
   "source": [
    "for neighbor in xroot[0].iter('flags'):\n",
    "    print(neighbor.attrib)"
   ],
   "metadata": {
    "collapsed": false,
    "pycharm": {
     "name": "#%%\n"
    }
   }
  },
  {
   "cell_type": "code",
   "execution_count": null,
   "outputs": [],
   "source": [
    "import xml.etree.ElementTree as et\n",
    "\n",
    "columns = {\n",
    "    'name': [],\n",
    "    'nominal': [],\n",
    "    'lifetime': [],\n",
    "    'restock': [],\n",
    "    'min': [],\n",
    "    'quantmin': [],\n",
    "    'quantmax': [],\n",
    "    'cost': [],\n",
    "    'flags': [],\n",
    "    'usage': [],\n",
    "    'value': []\n",
    "}\n",
    "\n",
    "xtree = et.parse('./dayz.xml')\n",
    "xroot = xtree.getroot()\n",
    "\n",
    "for element in xroot:\n",
    "    for column in columns.keys():\n",
    "        for item in element.iter(column):\n",
    "            if item.attrib:\n",
    "                columns[column\n"
   ],
   "metadata": {
    "collapsed": false,
    "pycharm": {
     "name": "#%%\n"
    }
   }
  },
  {
   "cell_type": "code",
   "execution_count": 27,
   "outputs": [],
   "source": [
    "df = parse_XML('./dayz.xml', [\n",
    "    'name',\n",
    "    'nominal',\n",
    "    'lifetime',\n",
    "    'restock',\n",
    "    'min',\n",
    "    'quantmin',\n",
    "    'quantmax',\n",
    "    'cost',\n",
    "    'flags',\n",
    "    'usage',\n",
    "    'value'\n",
    "])"
   ],
   "metadata": {
    "collapsed": false,
    "pycharm": {
     "name": "#%%\n"
    }
   }
  },
  {
   "cell_type": "code",
   "execution_count": 28,
   "outputs": [
    {
     "data": {
      "text/plain": "                   name nominal lifetime restock min quantmin quantmax cost  \\\n0             ACOGOptic      15    14400    1800   8       -1       -1  100   \n1          ACOGOptic_6x       5    14400    1800   2       -1       -1  100   \n2                 AK101       2    28800    3600   1       -1       -1  100   \n3           AK101_Black       0    28800       0   0       -1       -1  100   \n4           AK101_Green       0    28800       0   0       -1       -1  100   \n...                 ...     ...      ...     ...  ..      ...      ...  ...   \n1586  ZmijovkaCap_Green      30    14400       0  20       -1       -1  100   \n1587    ZmijovkaCap_Red      30    14400       0  20       -1       -1  100   \n1588           Zucchini      20    14400       0  15       -1       -1  100   \n1589      ZucchiniSeeds       0    14400       0   0       -1       -1  100   \n1590  ZucchiniSeedsPack      30    14400       0  25       -1       -1  100   \n\n     flags usage value  \n0     None  None  None  \n1     None  None  None  \n2     None  None  None  \n3     None  None  None  \n4     None  None  None  \n...    ...   ...   ...  \n1586  None  None  None  \n1587  None  None  None  \n1588  None  None  None  \n1589  None  None  None  \n1590  None  None  None  \n\n[1591 rows x 11 columns]",
      "text/html": "<div>\n<style scoped>\n    .dataframe tbody tr th:only-of-type {\n        vertical-align: middle;\n    }\n\n    .dataframe tbody tr th {\n        vertical-align: top;\n    }\n\n    .dataframe thead th {\n        text-align: right;\n    }\n</style>\n<table border=\"1\" class=\"dataframe\">\n  <thead>\n    <tr style=\"text-align: right;\">\n      <th></th>\n      <th>name</th>\n      <th>nominal</th>\n      <th>lifetime</th>\n      <th>restock</th>\n      <th>min</th>\n      <th>quantmin</th>\n      <th>quantmax</th>\n      <th>cost</th>\n      <th>flags</th>\n      <th>usage</th>\n      <th>value</th>\n    </tr>\n  </thead>\n  <tbody>\n    <tr>\n      <th>0</th>\n      <td>ACOGOptic</td>\n      <td>15</td>\n      <td>14400</td>\n      <td>1800</td>\n      <td>8</td>\n      <td>-1</td>\n      <td>-1</td>\n      <td>100</td>\n      <td>None</td>\n      <td>None</td>\n      <td>None</td>\n    </tr>\n    <tr>\n      <th>1</th>\n      <td>ACOGOptic_6x</td>\n      <td>5</td>\n      <td>14400</td>\n      <td>1800</td>\n      <td>2</td>\n      <td>-1</td>\n      <td>-1</td>\n      <td>100</td>\n      <td>None</td>\n      <td>None</td>\n      <td>None</td>\n    </tr>\n    <tr>\n      <th>2</th>\n      <td>AK101</td>\n      <td>2</td>\n      <td>28800</td>\n      <td>3600</td>\n      <td>1</td>\n      <td>-1</td>\n      <td>-1</td>\n      <td>100</td>\n      <td>None</td>\n      <td>None</td>\n      <td>None</td>\n    </tr>\n    <tr>\n      <th>3</th>\n      <td>AK101_Black</td>\n      <td>0</td>\n      <td>28800</td>\n      <td>0</td>\n      <td>0</td>\n      <td>-1</td>\n      <td>-1</td>\n      <td>100</td>\n      <td>None</td>\n      <td>None</td>\n      <td>None</td>\n    </tr>\n    <tr>\n      <th>4</th>\n      <td>AK101_Green</td>\n      <td>0</td>\n      <td>28800</td>\n      <td>0</td>\n      <td>0</td>\n      <td>-1</td>\n      <td>-1</td>\n      <td>100</td>\n      <td>None</td>\n      <td>None</td>\n      <td>None</td>\n    </tr>\n    <tr>\n      <th>...</th>\n      <td>...</td>\n      <td>...</td>\n      <td>...</td>\n      <td>...</td>\n      <td>...</td>\n      <td>...</td>\n      <td>...</td>\n      <td>...</td>\n      <td>...</td>\n      <td>...</td>\n      <td>...</td>\n    </tr>\n    <tr>\n      <th>1586</th>\n      <td>ZmijovkaCap_Green</td>\n      <td>30</td>\n      <td>14400</td>\n      <td>0</td>\n      <td>20</td>\n      <td>-1</td>\n      <td>-1</td>\n      <td>100</td>\n      <td>None</td>\n      <td>None</td>\n      <td>None</td>\n    </tr>\n    <tr>\n      <th>1587</th>\n      <td>ZmijovkaCap_Red</td>\n      <td>30</td>\n      <td>14400</td>\n      <td>0</td>\n      <td>20</td>\n      <td>-1</td>\n      <td>-1</td>\n      <td>100</td>\n      <td>None</td>\n      <td>None</td>\n      <td>None</td>\n    </tr>\n    <tr>\n      <th>1588</th>\n      <td>Zucchini</td>\n      <td>20</td>\n      <td>14400</td>\n      <td>0</td>\n      <td>15</td>\n      <td>-1</td>\n      <td>-1</td>\n      <td>100</td>\n      <td>None</td>\n      <td>None</td>\n      <td>None</td>\n    </tr>\n    <tr>\n      <th>1589</th>\n      <td>ZucchiniSeeds</td>\n      <td>0</td>\n      <td>14400</td>\n      <td>0</td>\n      <td>0</td>\n      <td>-1</td>\n      <td>-1</td>\n      <td>100</td>\n      <td>None</td>\n      <td>None</td>\n      <td>None</td>\n    </tr>\n    <tr>\n      <th>1590</th>\n      <td>ZucchiniSeedsPack</td>\n      <td>30</td>\n      <td>14400</td>\n      <td>0</td>\n      <td>25</td>\n      <td>-1</td>\n      <td>-1</td>\n      <td>100</td>\n      <td>None</td>\n      <td>None</td>\n      <td>None</td>\n    </tr>\n  </tbody>\n</table>\n<p>1591 rows × 11 columns</p>\n</div>"
     },
     "execution_count": 28,
     "metadata": {},
     "output_type": "execute_result"
    }
   ],
   "source": [
    "df[~df['name'].isnull()]"
   ],
   "metadata": {
    "collapsed": false,
    "pycharm": {
     "name": "#%%\n"
    }
   }
  }
 ],
 "metadata": {
  "kernelspec": {
   "display_name": "Python 3",
   "language": "python",
   "name": "python3"
  },
  "language_info": {
   "codemirror_mode": {
    "name": "ipython",
    "version": 2
   },
   "file_extension": ".py",
   "mimetype": "text/x-python",
   "name": "python",
   "nbconvert_exporter": "python",
   "pygments_lexer": "ipython2",
   "version": "2.7.6"
  }
 },
 "nbformat": 4,
 "nbformat_minor": 0
}